{
 "nbformat": 4,
 "nbformat_minor": 2,
 "metadata": {
  "language_info": {
   "name": "python",
   "codemirror_mode": {
    "name": "ipython",
    "version": 3
   },
   "version": "3.6.5-final"
  },
  "orig_nbformat": 2,
  "file_extension": ".py",
  "mimetype": "text/x-python",
  "name": "python",
  "npconvert_exporter": "python",
  "pygments_lexer": "ipython3",
  "version": 3,
  "kernelspec": {
   "name": "python36564bitbaseconda51415bd12806435f8ca9c8468c77f209",
   "display_name": "Python 3.6.5 64-bit ('base': conda)"
  }
 },
 "cells": [
  {
   "cell_type": "code",
   "execution_count": 1,
   "metadata": {},
   "outputs": [],
   "source": [
    "import pandas as pd\n",
    "import numpy as np\n",
    "import seaborn as sns\n",
    "import matplotlib.pyplot as plt"
   ]
  },
  {
   "cell_type": "code",
   "execution_count": 2,
   "metadata": {},
   "outputs": [
    {
     "output_type": "execute_result",
     "data": {
      "text/plain": "   Id  MSSubClass MSZoning  LotFrontage  LotArea Street Alley LotShape  \\\n0   1          60       RL         65.0     8450   Pave   NaN      Reg   \n1   2          20       RL         80.0     9600   Pave   NaN      Reg   \n2   3          60       RL         68.0    11250   Pave   NaN      IR1   \n3   4          70       RL         60.0     9550   Pave   NaN      IR1   \n4   5          60       RL         84.0    14260   Pave   NaN      IR1   \n\n  LandContour Utilities    ...     PoolArea PoolQC Fence MiscFeature MiscVal  \\\n0         Lvl    AllPub    ...            0    NaN   NaN         NaN       0   \n1         Lvl    AllPub    ...            0    NaN   NaN         NaN       0   \n2         Lvl    AllPub    ...            0    NaN   NaN         NaN       0   \n3         Lvl    AllPub    ...            0    NaN   NaN         NaN       0   \n4         Lvl    AllPub    ...            0    NaN   NaN         NaN       0   \n\n  MoSold YrSold  SaleType  SaleCondition  SalePrice  \n0      2   2008        WD         Normal     208500  \n1      5   2007        WD         Normal     181500  \n2      9   2008        WD         Normal     223500  \n3      2   2006        WD        Abnorml     140000  \n4     12   2008        WD         Normal     250000  \n\n[5 rows x 81 columns]",
      "text/html": "<div>\n<style scoped>\n    .dataframe tbody tr th:only-of-type {\n        vertical-align: middle;\n    }\n\n    .dataframe tbody tr th {\n        vertical-align: top;\n    }\n\n    .dataframe thead th {\n        text-align: right;\n    }\n</style>\n<table border=\"1\" class=\"dataframe\">\n  <thead>\n    <tr style=\"text-align: right;\">\n      <th></th>\n      <th>Id</th>\n      <th>MSSubClass</th>\n      <th>MSZoning</th>\n      <th>LotFrontage</th>\n      <th>LotArea</th>\n      <th>Street</th>\n      <th>Alley</th>\n      <th>LotShape</th>\n      <th>LandContour</th>\n      <th>Utilities</th>\n      <th>...</th>\n      <th>PoolArea</th>\n      <th>PoolQC</th>\n      <th>Fence</th>\n      <th>MiscFeature</th>\n      <th>MiscVal</th>\n      <th>MoSold</th>\n      <th>YrSold</th>\n      <th>SaleType</th>\n      <th>SaleCondition</th>\n      <th>SalePrice</th>\n    </tr>\n  </thead>\n  <tbody>\n    <tr>\n      <th>0</th>\n      <td>1</td>\n      <td>60</td>\n      <td>RL</td>\n      <td>65.0</td>\n      <td>8450</td>\n      <td>Pave</td>\n      <td>NaN</td>\n      <td>Reg</td>\n      <td>Lvl</td>\n      <td>AllPub</td>\n      <td>...</td>\n      <td>0</td>\n      <td>NaN</td>\n      <td>NaN</td>\n      <td>NaN</td>\n      <td>0</td>\n      <td>2</td>\n      <td>2008</td>\n      <td>WD</td>\n      <td>Normal</td>\n      <td>208500</td>\n    </tr>\n    <tr>\n      <th>1</th>\n      <td>2</td>\n      <td>20</td>\n      <td>RL</td>\n      <td>80.0</td>\n      <td>9600</td>\n      <td>Pave</td>\n      <td>NaN</td>\n      <td>Reg</td>\n      <td>Lvl</td>\n      <td>AllPub</td>\n      <td>...</td>\n      <td>0</td>\n      <td>NaN</td>\n      <td>NaN</td>\n      <td>NaN</td>\n      <td>0</td>\n      <td>5</td>\n      <td>2007</td>\n      <td>WD</td>\n      <td>Normal</td>\n      <td>181500</td>\n    </tr>\n    <tr>\n      <th>2</th>\n      <td>3</td>\n      <td>60</td>\n      <td>RL</td>\n      <td>68.0</td>\n      <td>11250</td>\n      <td>Pave</td>\n      <td>NaN</td>\n      <td>IR1</td>\n      <td>Lvl</td>\n      <td>AllPub</td>\n      <td>...</td>\n      <td>0</td>\n      <td>NaN</td>\n      <td>NaN</td>\n      <td>NaN</td>\n      <td>0</td>\n      <td>9</td>\n      <td>2008</td>\n      <td>WD</td>\n      <td>Normal</td>\n      <td>223500</td>\n    </tr>\n    <tr>\n      <th>3</th>\n      <td>4</td>\n      <td>70</td>\n      <td>RL</td>\n      <td>60.0</td>\n      <td>9550</td>\n      <td>Pave</td>\n      <td>NaN</td>\n      <td>IR1</td>\n      <td>Lvl</td>\n      <td>AllPub</td>\n      <td>...</td>\n      <td>0</td>\n      <td>NaN</td>\n      <td>NaN</td>\n      <td>NaN</td>\n      <td>0</td>\n      <td>2</td>\n      <td>2006</td>\n      <td>WD</td>\n      <td>Abnorml</td>\n      <td>140000</td>\n    </tr>\n    <tr>\n      <th>4</th>\n      <td>5</td>\n      <td>60</td>\n      <td>RL</td>\n      <td>84.0</td>\n      <td>14260</td>\n      <td>Pave</td>\n      <td>NaN</td>\n      <td>IR1</td>\n      <td>Lvl</td>\n      <td>AllPub</td>\n      <td>...</td>\n      <td>0</td>\n      <td>NaN</td>\n      <td>NaN</td>\n      <td>NaN</td>\n      <td>0</td>\n      <td>12</td>\n      <td>2008</td>\n      <td>WD</td>\n      <td>Normal</td>\n      <td>250000</td>\n    </tr>\n  </tbody>\n</table>\n<p>5 rows × 81 columns</p>\n</div>"
     },
     "metadata": {},
     "execution_count": 2
    }
   ],
   "source": [
    "df = pd.read_csv(\"train.csv\")\n",
    "df.head()"
   ]
  },
  {
   "cell_type": "code",
   "execution_count": 3,
   "metadata": {},
   "outputs": [
    {
     "output_type": "execute_result",
     "data": {
      "text/plain": "         Variable  Valeurs Manquantes  Nombre de lignes  % Manquant\n0              Id                   0              1460        0.00\n1      MSSubClass                   0              1460        0.00\n2        MSZoning                   0              1460        0.00\n3     LotFrontage                 259              1460       17.74\n4         LotArea                   0              1460        0.00\n5          Street                   0              1460        0.00\n6           Alley                1369              1460       93.77\n7        LotShape                   0              1460        0.00\n8     LandContour                   0              1460        0.00\n9       Utilities                   0              1460        0.00\n10      LotConfig                   0              1460        0.00\n11      LandSlope                   0              1460        0.00\n12   Neighborhood                   0              1460        0.00\n13     Condition1                   0              1460        0.00\n14     Condition2                   0              1460        0.00\n15       BldgType                   0              1460        0.00\n16     HouseStyle                   0              1460        0.00\n17    OverallQual                   0              1460        0.00\n18    OverallCond                   0              1460        0.00\n19      YearBuilt                   0              1460        0.00\n20   YearRemodAdd                   0              1460        0.00\n21      RoofStyle                   0              1460        0.00\n22       RoofMatl                   0              1460        0.00\n23    Exterior1st                   0              1460        0.00\n24    Exterior2nd                   0              1460        0.00\n25     MasVnrType                   8              1460        0.55\n26     MasVnrArea                   8              1460        0.55\n27      ExterQual                   0              1460        0.00\n28      ExterCond                   0              1460        0.00\n29     Foundation                   0              1460        0.00\n..            ...                 ...               ...         ...\n51   BedroomAbvGr                   0              1460        0.00\n52   KitchenAbvGr                   0              1460        0.00\n53    KitchenQual                   0              1460        0.00\n54   TotRmsAbvGrd                   0              1460        0.00\n55     Functional                   0              1460        0.00\n56     Fireplaces                   0              1460        0.00\n57    FireplaceQu                 690              1460       47.26\n58     GarageType                  81              1460        5.55\n59    GarageYrBlt                  81              1460        5.55\n60   GarageFinish                  81              1460        5.55\n61     GarageCars                   0              1460        0.00\n62     GarageArea                   0              1460        0.00\n63     GarageQual                  81              1460        5.55\n64     GarageCond                  81              1460        5.55\n65     PavedDrive                   0              1460        0.00\n66     WoodDeckSF                   0              1460        0.00\n67    OpenPorchSF                   0              1460        0.00\n68  EnclosedPorch                   0              1460        0.00\n69      3SsnPorch                   0              1460        0.00\n70    ScreenPorch                   0              1460        0.00\n71       PoolArea                   0              1460        0.00\n72         PoolQC                1453              1460       99.52\n73          Fence                1179              1460       80.75\n74    MiscFeature                1406              1460       96.30\n75        MiscVal                   0              1460        0.00\n76         MoSold                   0              1460        0.00\n77         YrSold                   0              1460        0.00\n78       SaleType                   0              1460        0.00\n79  SaleCondition                   0              1460        0.00\n80      SalePrice                   0              1460        0.00\n\n[81 rows x 4 columns]",
      "text/html": "<div>\n<style scoped>\n    .dataframe tbody tr th:only-of-type {\n        vertical-align: middle;\n    }\n\n    .dataframe tbody tr th {\n        vertical-align: top;\n    }\n\n    .dataframe thead th {\n        text-align: right;\n    }\n</style>\n<table border=\"1\" class=\"dataframe\">\n  <thead>\n    <tr style=\"text-align: right;\">\n      <th></th>\n      <th>Variable</th>\n      <th>Valeurs Manquantes</th>\n      <th>Nombre de lignes</th>\n      <th>% Manquant</th>\n    </tr>\n  </thead>\n  <tbody>\n    <tr>\n      <th>0</th>\n      <td>Id</td>\n      <td>0</td>\n      <td>1460</td>\n      <td>0.00</td>\n    </tr>\n    <tr>\n      <th>1</th>\n      <td>MSSubClass</td>\n      <td>0</td>\n      <td>1460</td>\n      <td>0.00</td>\n    </tr>\n    <tr>\n      <th>2</th>\n      <td>MSZoning</td>\n      <td>0</td>\n      <td>1460</td>\n      <td>0.00</td>\n    </tr>\n    <tr>\n      <th>3</th>\n      <td>LotFrontage</td>\n      <td>259</td>\n      <td>1460</td>\n      <td>17.74</td>\n    </tr>\n    <tr>\n      <th>4</th>\n      <td>LotArea</td>\n      <td>0</td>\n      <td>1460</td>\n      <td>0.00</td>\n    </tr>\n    <tr>\n      <th>5</th>\n      <td>Street</td>\n      <td>0</td>\n      <td>1460</td>\n      <td>0.00</td>\n    </tr>\n    <tr>\n      <th>6</th>\n      <td>Alley</td>\n      <td>1369</td>\n      <td>1460</td>\n      <td>93.77</td>\n    </tr>\n    <tr>\n      <th>7</th>\n      <td>LotShape</td>\n      <td>0</td>\n      <td>1460</td>\n      <td>0.00</td>\n    </tr>\n    <tr>\n      <th>8</th>\n      <td>LandContour</td>\n      <td>0</td>\n      <td>1460</td>\n      <td>0.00</td>\n    </tr>\n    <tr>\n      <th>9</th>\n      <td>Utilities</td>\n      <td>0</td>\n      <td>1460</td>\n      <td>0.00</td>\n    </tr>\n    <tr>\n      <th>10</th>\n      <td>LotConfig</td>\n      <td>0</td>\n      <td>1460</td>\n      <td>0.00</td>\n    </tr>\n    <tr>\n      <th>11</th>\n      <td>LandSlope</td>\n      <td>0</td>\n      <td>1460</td>\n      <td>0.00</td>\n    </tr>\n    <tr>\n      <th>12</th>\n      <td>Neighborhood</td>\n      <td>0</td>\n      <td>1460</td>\n      <td>0.00</td>\n    </tr>\n    <tr>\n      <th>13</th>\n      <td>Condition1</td>\n      <td>0</td>\n      <td>1460</td>\n      <td>0.00</td>\n    </tr>\n    <tr>\n      <th>14</th>\n      <td>Condition2</td>\n      <td>0</td>\n      <td>1460</td>\n      <td>0.00</td>\n    </tr>\n    <tr>\n      <th>15</th>\n      <td>BldgType</td>\n      <td>0</td>\n      <td>1460</td>\n      <td>0.00</td>\n    </tr>\n    <tr>\n      <th>16</th>\n      <td>HouseStyle</td>\n      <td>0</td>\n      <td>1460</td>\n      <td>0.00</td>\n    </tr>\n    <tr>\n      <th>17</th>\n      <td>OverallQual</td>\n      <td>0</td>\n      <td>1460</td>\n      <td>0.00</td>\n    </tr>\n    <tr>\n      <th>18</th>\n      <td>OverallCond</td>\n      <td>0</td>\n      <td>1460</td>\n      <td>0.00</td>\n    </tr>\n    <tr>\n      <th>19</th>\n      <td>YearBuilt</td>\n      <td>0</td>\n      <td>1460</td>\n      <td>0.00</td>\n    </tr>\n    <tr>\n      <th>20</th>\n      <td>YearRemodAdd</td>\n      <td>0</td>\n      <td>1460</td>\n      <td>0.00</td>\n    </tr>\n    <tr>\n      <th>21</th>\n      <td>RoofStyle</td>\n      <td>0</td>\n      <td>1460</td>\n      <td>0.00</td>\n    </tr>\n    <tr>\n      <th>22</th>\n      <td>RoofMatl</td>\n      <td>0</td>\n      <td>1460</td>\n      <td>0.00</td>\n    </tr>\n    <tr>\n      <th>23</th>\n      <td>Exterior1st</td>\n      <td>0</td>\n      <td>1460</td>\n      <td>0.00</td>\n    </tr>\n    <tr>\n      <th>24</th>\n      <td>Exterior2nd</td>\n      <td>0</td>\n      <td>1460</td>\n      <td>0.00</td>\n    </tr>\n    <tr>\n      <th>25</th>\n      <td>MasVnrType</td>\n      <td>8</td>\n      <td>1460</td>\n      <td>0.55</td>\n    </tr>\n    <tr>\n      <th>26</th>\n      <td>MasVnrArea</td>\n      <td>8</td>\n      <td>1460</td>\n      <td>0.55</td>\n    </tr>\n    <tr>\n      <th>27</th>\n      <td>ExterQual</td>\n      <td>0</td>\n      <td>1460</td>\n      <td>0.00</td>\n    </tr>\n    <tr>\n      <th>28</th>\n      <td>ExterCond</td>\n      <td>0</td>\n      <td>1460</td>\n      <td>0.00</td>\n    </tr>\n    <tr>\n      <th>29</th>\n      <td>Foundation</td>\n      <td>0</td>\n      <td>1460</td>\n      <td>0.00</td>\n    </tr>\n    <tr>\n      <th>...</th>\n      <td>...</td>\n      <td>...</td>\n      <td>...</td>\n      <td>...</td>\n    </tr>\n    <tr>\n      <th>51</th>\n      <td>BedroomAbvGr</td>\n      <td>0</td>\n      <td>1460</td>\n      <td>0.00</td>\n    </tr>\n    <tr>\n      <th>52</th>\n      <td>KitchenAbvGr</td>\n      <td>0</td>\n      <td>1460</td>\n      <td>0.00</td>\n    </tr>\n    <tr>\n      <th>53</th>\n      <td>KitchenQual</td>\n      <td>0</td>\n      <td>1460</td>\n      <td>0.00</td>\n    </tr>\n    <tr>\n      <th>54</th>\n      <td>TotRmsAbvGrd</td>\n      <td>0</td>\n      <td>1460</td>\n      <td>0.00</td>\n    </tr>\n    <tr>\n      <th>55</th>\n      <td>Functional</td>\n      <td>0</td>\n      <td>1460</td>\n      <td>0.00</td>\n    </tr>\n    <tr>\n      <th>56</th>\n      <td>Fireplaces</td>\n      <td>0</td>\n      <td>1460</td>\n      <td>0.00</td>\n    </tr>\n    <tr>\n      <th>57</th>\n      <td>FireplaceQu</td>\n      <td>690</td>\n      <td>1460</td>\n      <td>47.26</td>\n    </tr>\n    <tr>\n      <th>58</th>\n      <td>GarageType</td>\n      <td>81</td>\n      <td>1460</td>\n      <td>5.55</td>\n    </tr>\n    <tr>\n      <th>59</th>\n      <td>GarageYrBlt</td>\n      <td>81</td>\n      <td>1460</td>\n      <td>5.55</td>\n    </tr>\n    <tr>\n      <th>60</th>\n      <td>GarageFinish</td>\n      <td>81</td>\n      <td>1460</td>\n      <td>5.55</td>\n    </tr>\n    <tr>\n      <th>61</th>\n      <td>GarageCars</td>\n      <td>0</td>\n      <td>1460</td>\n      <td>0.00</td>\n    </tr>\n    <tr>\n      <th>62</th>\n      <td>GarageArea</td>\n      <td>0</td>\n      <td>1460</td>\n      <td>0.00</td>\n    </tr>\n    <tr>\n      <th>63</th>\n      <td>GarageQual</td>\n      <td>81</td>\n      <td>1460</td>\n      <td>5.55</td>\n    </tr>\n    <tr>\n      <th>64</th>\n      <td>GarageCond</td>\n      <td>81</td>\n      <td>1460</td>\n      <td>5.55</td>\n    </tr>\n    <tr>\n      <th>65</th>\n      <td>PavedDrive</td>\n      <td>0</td>\n      <td>1460</td>\n      <td>0.00</td>\n    </tr>\n    <tr>\n      <th>66</th>\n      <td>WoodDeckSF</td>\n      <td>0</td>\n      <td>1460</td>\n      <td>0.00</td>\n    </tr>\n    <tr>\n      <th>67</th>\n      <td>OpenPorchSF</td>\n      <td>0</td>\n      <td>1460</td>\n      <td>0.00</td>\n    </tr>\n    <tr>\n      <th>68</th>\n      <td>EnclosedPorch</td>\n      <td>0</td>\n      <td>1460</td>\n      <td>0.00</td>\n    </tr>\n    <tr>\n      <th>69</th>\n      <td>3SsnPorch</td>\n      <td>0</td>\n      <td>1460</td>\n      <td>0.00</td>\n    </tr>\n    <tr>\n      <th>70</th>\n      <td>ScreenPorch</td>\n      <td>0</td>\n      <td>1460</td>\n      <td>0.00</td>\n    </tr>\n    <tr>\n      <th>71</th>\n      <td>PoolArea</td>\n      <td>0</td>\n      <td>1460</td>\n      <td>0.00</td>\n    </tr>\n    <tr>\n      <th>72</th>\n      <td>PoolQC</td>\n      <td>1453</td>\n      <td>1460</td>\n      <td>99.52</td>\n    </tr>\n    <tr>\n      <th>73</th>\n      <td>Fence</td>\n      <td>1179</td>\n      <td>1460</td>\n      <td>80.75</td>\n    </tr>\n    <tr>\n      <th>74</th>\n      <td>MiscFeature</td>\n      <td>1406</td>\n      <td>1460</td>\n      <td>96.30</td>\n    </tr>\n    <tr>\n      <th>75</th>\n      <td>MiscVal</td>\n      <td>0</td>\n      <td>1460</td>\n      <td>0.00</td>\n    </tr>\n    <tr>\n      <th>76</th>\n      <td>MoSold</td>\n      <td>0</td>\n      <td>1460</td>\n      <td>0.00</td>\n    </tr>\n    <tr>\n      <th>77</th>\n      <td>YrSold</td>\n      <td>0</td>\n      <td>1460</td>\n      <td>0.00</td>\n    </tr>\n    <tr>\n      <th>78</th>\n      <td>SaleType</td>\n      <td>0</td>\n      <td>1460</td>\n      <td>0.00</td>\n    </tr>\n    <tr>\n      <th>79</th>\n      <td>SaleCondition</td>\n      <td>0</td>\n      <td>1460</td>\n      <td>0.00</td>\n    </tr>\n    <tr>\n      <th>80</th>\n      <td>SalePrice</td>\n      <td>0</td>\n      <td>1460</td>\n      <td>0.00</td>\n    </tr>\n  </tbody>\n</table>\n<p>81 rows × 4 columns</p>\n</div>"
     },
     "metadata": {},
     "execution_count": 3
    }
   ],
   "source": [
    "#######\n",
    "# Analyse des valeurs manquantes azeaze\n",
    "#######\n",
    "\n",
    "def missing_statistics(df):    \n",
    "    statitics = pd.DataFrame(df.isnull().sum()).reset_index()\n",
    "    statitics.columns=['Variable',\"Valeurs Manquantes\"]\n",
    "    statitics['Nombre de lignes'] = df.shape[0]\n",
    "    statitics['% Manquant'] = round((statitics['Valeurs Manquantes']/statitics['Nombre de lignes'])*100,2)\n",
    "    return statitics\n",
    "\n",
    "missing_statistics(df)"
   ]
  },
  {
   "cell_type": "code",
   "execution_count": 4,
   "metadata": {},
   "outputs": [],
   "source": [
    "##########\n",
    "# Selection des 3 variables de test\n",
    "##########\n",
    "\n",
    "df = df.filter(['LotArea', 'SalePrice', 'Neighborhood'])"
   ]
  },
  {
   "cell_type": "markdown",
   "metadata": {},
   "source": [
    "# Création du modèle"
   ]
  },
  {
   "cell_type": "code",
   "execution_count": 5,
   "metadata": {},
   "outputs": [],
   "source": [
    "X = df.filter(['LotArea', 'SalePrice', 'Neighborhood'])\n",
    "y = df.SalePrice"
   ]
  },
  {
   "cell_type": "code",
   "execution_count": 6,
   "metadata": {},
   "outputs": [],
   "source": [
    "from sklearn import preprocessing\n",
    "le = preprocessing.LabelEncoder()\n",
    "le.fit(X[\"Neighborhood\"])\n",
    "X[\"Neighborhood\"] = le.transform(X[\"Neighborhood\"])"
   ]
  },
  {
   "cell_type": "code",
   "execution_count": 7,
   "metadata": {},
   "outputs": [],
   "source": [
    "from sklearn.model_selection import train_test_split\n",
    "\n",
    "X_train, X_test, y_train, y_test = train_test_split(X, y, test_size=0.33, random_state=0)"
   ]
  },
  {
   "cell_type": "code",
   "execution_count": 8,
   "metadata": {},
   "outputs": [
    {
     "output_type": "stream",
     "name": "stdout",
     "text": "Fitting 3 folds for each of 180 candidates, totalling 540 fits\n[Parallel(n_jobs=-1)]: Done  25 tasks      | elapsed:   13.0s\n[Parallel(n_jobs=-1)]: Done 146 tasks      | elapsed:   17.6s\n[Parallel(n_jobs=-1)]: Done 349 tasks      | elapsed:   26.1s\n[Parallel(n_jobs=-1)]: Done 540 out of 540 | elapsed:   34.9s finished\n"
    },
    {
     "output_type": "execute_result",
     "data": {
      "text/plain": "GridSearchCV(cv=3, error_score='raise',\n       estimator=RandomForestRegressor(bootstrap=True, criterion='mse', max_depth=None,\n           max_features='auto', max_leaf_nodes=None,\n           min_impurity_decrease=0.0, min_impurity_split=None,\n           min_samples_leaf=1, min_samples_split=2,\n           min_weight_fraction_leaf=0.0, n_estimators=10, n_jobs=1,\n           oob_score=False, random_state=0, verbose=0, warm_start=False),\n       fit_params=None, iid=True, n_jobs=-1,\n       param_grid={'bootstrap': [True], 'max_depth': [20, 40, 60, None], 'min_samples_leaf': [3, 4, 5], 'min_samples_split': [8, 10, 12], 'n_estimators': [10, 30, 50, 100, 200]},\n       pre_dispatch='2*n_jobs', refit=True, return_train_score='warn',\n       scoring=None, verbose=2)"
     },
     "metadata": {},
     "execution_count": 8
    }
   ],
   "source": [
    "from sklearn.ensemble import RandomForestRegressor\n",
    "from sklearn.model_selection import GridSearchCV\n",
    "\n",
    "param_grid = {\n",
    "    'bootstrap': [True],\n",
    "    'max_depth': [20, 40, 60, None],\n",
    "    'min_samples_leaf': [3, 4, 5],\n",
    "    'min_samples_split': [8, 10, 12],\n",
    "    'n_estimators': [10, 30, 50, 100, 200]\n",
    "}\n",
    "\n",
    "rf = RandomForestRegressor(random_state=0)\n",
    "grid_search = GridSearchCV(estimator = rf, param_grid = param_grid, \n",
    "                          cv = 3, n_jobs = -1, verbose = 2)\n",
    "grid_search.fit(X_train,y_train)"
   ]
  },
  {
   "cell_type": "code",
   "execution_count": 9,
   "metadata": {},
   "outputs": [
    {
     "output_type": "execute_result",
     "data": {
      "text/plain": "{'bootstrap': True,\n 'max_depth': 20,\n 'min_samples_leaf': 3,\n 'min_samples_split': 8,\n 'n_estimators': 50}"
     },
     "metadata": {},
     "execution_count": 9
    }
   ],
   "source": [
    "grid_search.best_params_"
   ]
  },
  {
   "cell_type": "code",
   "execution_count": 10,
   "metadata": {},
   "outputs": [
    {
     "output_type": "execute_result",
     "data": {
      "text/plain": "RandomForestRegressor(bootstrap=True, criterion='mse', max_depth=20,\n           max_features='auto', max_leaf_nodes=None,\n           min_impurity_decrease=0.0, min_impurity_split=None,\n           min_samples_leaf=3, min_samples_split=8,\n           min_weight_fraction_leaf=0.0, n_estimators=50, n_jobs=1,\n           oob_score=False, random_state=0, verbose=0, warm_start=False)"
     },
     "metadata": {},
     "execution_count": 10
    }
   ],
   "source": [
    "model_opti = RandomForestRegressor(random_state=0, bootstrap=True, max_depth=20, min_samples_leaf= 3, min_samples_split=8, n_estimators=50)\n",
    "model_opti.fit(X,y)"
   ]
  },
  {
   "cell_type": "code",
   "execution_count": 11,
   "metadata": {},
   "outputs": [],
   "source": [
    "import pickle\n",
    "\n",
    "pkl_filename = \"pickle_model.pkl\"\n",
    "with open(pkl_filename, 'wb') as file:\n",
    "    pickle.dump(model_opti, file)"
   ]
  },
  {
   "cell_type": "code",
   "execution_count": null,
   "metadata": {},
   "outputs": [],
   "source": []
  }
 ]
}